{
 "cells": [
  {
   "cell_type": "markdown",
   "id": "cdfbef0f",
   "metadata": {},
   "source": [
    "## 1. Data Mining"
   ]
  },
  {
   "cell_type": "code",
   "execution_count": 1,
   "id": "4e383650",
   "metadata": {},
   "outputs": [
    {
     "name": "stdout",
     "output_type": "stream",
     "text": [
      "First 5 rows:\n",
      "   CustomerID   Genre   Age  Annual Income (k$)  Spending Score (1-100)\n",
      "0           1    Male  19.0                15.0                      39\n",
      "1           2    Male  21.0                15.0                      81\n",
      "2           3  Female  20.0                16.0                       6\n",
      "3           4  Female  23.0                16.0                      77\n",
      "4           5  Female  31.0                17.0                      40\n",
      "\n",
      "Dataset Info:\n",
      "<class 'pandas.core.frame.DataFrame'>\n",
      "RangeIndex: 201 entries, 0 to 200\n",
      "Data columns (total 5 columns):\n",
      " #   Column                  Non-Null Count  Dtype  \n",
      "---  ------                  --------------  -----  \n",
      " 0   CustomerID              201 non-null    int64  \n",
      " 1   Genre                   201 non-null    object \n",
      " 2   Age                     200 non-null    float64\n",
      " 3   Annual Income (k$)      200 non-null    float64\n",
      " 4   Spending Score (1-100)  201 non-null    int64  \n",
      "dtypes: float64(2), int64(2), object(1)\n",
      "memory usage: 8.0+ KB\n",
      "None\n",
      "\n",
      "Dataset Shape: (201, 5)\n"
     ]
    }
   ],
   "source": [
    "# 1. Import libraries\n",
    "import pandas as pd\n",
    "import numpy as np\n",
    "\n",
    "# 2. Load dataset\n",
    "df = pd.read_csv(\"mall_customers.csv\")\n",
    "\n",
    "# 3. Simulate messy data (optional for realism)\n",
    "df.loc[5, 'Annual Income (k$)'] = np.nan\n",
    "df.loc[20, 'Age'] = np.nan\n",
    "df = pd.concat([df, df.iloc[[3]]], ignore_index=True)  # duplicate row\n",
    "\n",
    "# 4. Preview\n",
    "print(\"First 5 rows:\")\n",
    "print(df.head())\n",
    "\n",
    "print(\"\\nDataset Info:\")\n",
    "print(df.info())\n",
    "\n",
    "print(f\"\\nDataset Shape: {df.shape}\")"
   ]
  },
  {
   "cell_type": "code",
   "execution_count": null,
   "id": "361d9eb4",
   "metadata": {},
   "outputs": [],
   "source": []
  }
 ],
 "metadata": {
  "kernelspec": {
   "display_name": "Python 3",
   "language": "python",
   "name": "python3"
  },
  "language_info": {
   "codemirror_mode": {
    "name": "ipython",
    "version": 3
   },
   "file_extension": ".py",
   "mimetype": "text/x-python",
   "name": "python",
   "nbconvert_exporter": "python",
   "pygments_lexer": "ipython3",
   "version": "3.13.5"
  }
 },
 "nbformat": 4,
 "nbformat_minor": 5
}
